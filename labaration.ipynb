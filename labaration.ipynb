{
 "metadata": {
  "language_info": {
   "codemirror_mode": {
    "name": "ipython",
    "version": 3
   },
   "file_extension": ".py",
   "mimetype": "text/x-python",
   "name": "python",
   "nbconvert_exporter": "python",
   "pygments_lexer": "ipython3",
   "version": "3.8.3-final"
  },
  "orig_nbformat": 2,
  "kernelspec": {
   "name": "Python 3.8.3 64-bit (conda)",
   "display_name": "Python 3.8.3 64-bit (conda)",
   "metadata": {
    "interpreter": {
     "hash": "b3ba2566441a7c06988d0923437866b63cedc61552a5af99d1f4fb67d367b25f"
    }
   }
  }
 },
 "nbformat": 4,
 "nbformat_minor": 2,
 "cells": [
  {
   "cell_type": "code",
   "execution_count": null,
   "metadata": {},
   "outputs": [],
   "source": [
    "#Uppgift 1A\n",
    "\n",
    "import numpy as np \n",
    "\n",
    "x = 0.5\n",
    "y = 0.5 \n",
    "c = x**2+y**2\n",
    "\n",
    "avstånd = np.sqrt(c)\n",
    "\n",
    "print(avstånd)\n"
   ]
  },
  {
   "source": [
    "#Uppgift 1B\n",
    "\n",
    "import numpy as np \n",
    "\n",
    "x = 1\n",
    "y = 1 \n",
    "c = x**2+y**2\n",
    "\n",
    "avstånd = np.sqrt(c)\n",
    "\n",
    "print(avstånd)"
   ],
   "cell_type": "code",
   "metadata": {},
   "execution_count": null,
   "outputs": []
  },
  {
   "cell_type": "code",
   "execution_count": null,
   "metadata": {},
   "outputs": [],
   "source": [
    "#Uppgift 1C\n",
    "\n",
    "import numpy as np \n",
    "\n",
    "x = 0.5\n",
    "y = -0.5 \n",
    "c = x**2+y**2\n",
    "\n",
    "avstånd = np.sqrt(c)\n",
    "\n",
    "print(avstånd)"
   ]
  },
  {
   "cell_type": "code",
   "execution_count": null,
   "metadata": {},
   "outputs": [],
   "source": [
    "#Uppgift 1D\n",
    "\n",
    "import numpy as np \n",
    "import random\n",
    "\n",
    "\n",
    "x = (random.uniform(-1,1))\n",
    "y = (random.uniform(-1,1))\n",
    "\n",
    "c = x**2+y**2\n",
    "\n",
    "avstånd = np.sqrt(c)\n",
    "\n",
    "print(avstånd)"
   ]
  },
  {
   "cell_type": "code",
   "execution_count": null,
   "metadata": {},
   "outputs": [],
   "source": [
    "#Uppgift 1E & F & H\n",
    "import random as rm\n",
    "import math as mt\n",
    "\n",
    "tal = 0\n",
    "\n",
    "for dots in range(100000): \n",
    "    x = rm.uniform(-1,1) \n",
    "    y = rm.uniform(-1,1)\n",
    "\n",
    "    avstånd = mt.sqrt(x**2+y**2)\n",
    "\n",
    "    if avstånd < 1:\n",
    "        tal += 1 \n",
    "summa = 4*tal/100000 \n",
    "\n",
    "print(summa) #Man kommar närmare pi ju fler punker som simuleras"
   ]
  },
  {
   "cell_type": "code",
   "execution_count": null,
   "metadata": {},
   "outputs": [],
   "source": [
    "#Uppgift 1G \n",
    "import random as rm\n",
    "import numpy as np\n",
    "import matplotlib.pyplot as plt\n",
    "\n",
    "tal = 0\n",
    "for i in range(10000):\n",
    "    x=rm.uniform(-1,1)\n",
    "    y=rm.uniform(-1,1)\n",
    "    avstånd=np.sqrt(x**2+y**2)\n",
    "    if avstånd < 1:\n",
    "        tal += 1\n",
    "        plt.plot(x,y,'yo')\n",
    "    else:\n",
    "        plt.plot(x,y,'bo')\n",
    "\n",
    "plt.show()\n"
   ]
  },
  {
   "cell_type": "code",
   "execution_count": null,
   "metadata": {},
   "outputs": [],
   "source": [
    "#Uppgift 2A\n",
    "\n",
    "for n in range(101):\n",
    "    print(n)"
   ]
  },
  {
   "cell_type": "code",
   "execution_count": null,
   "metadata": {},
   "outputs": [],
   "source": [
    "#Uppgift 2B\n",
    "\n",
    "print(\"För varje tal som är en multipel av 5 kommer jag svara burr\")\n",
    "print(\" \")\n",
    "for tal in range(101):\n",
    "    if tal % 5 == 0:\n",
    "        print(f\"{tal}, Burr!\")\n",
    "    else:\n",
    "        print(f\"{tal}\")"
   ]
  },
  {
   "cell_type": "code",
   "execution_count": null,
   "metadata": {},
   "outputs": [],
   "source": [
    "#Uppgift 2C\n",
    "\n",
    "print(\"Mata in en multipel, jag kommer svara på vilka tal som blir burr.\")\n",
    "multipel = int(input(\"Välj multipel\"))\n",
    "print(\" \")\n",
    "for i in range(101):\n",
    "    if i % multipel == 0:\n",
    "        print(f\"{i}, Burr!\")\n",
    "    else:\n",
    "        print(f\"{i}\")"
   ]
  },
  {
   "cell_type": "code",
   "execution_count": null,
   "metadata": {},
   "outputs": [],
   "source": [
    "#Uppgift 2D\n",
    "\n",
    "print(\"Mata in en multipel, jag kommer svara på vilka tal som blir Burr.\")\n",
    "print(\"Mata även in en multipel som delbart kommer bli Birr\")\n",
    "burr = int(input(\"Välj en Burr multipel\"))\n",
    "birr = int(input(\"Välj en Birr multipel\"))\n",
    "print(\" \")\n",
    "\n",
    "for i in range(101):\n",
    "    if i % burr == 0:\n",
    "        print(f\"{i}, Burr!\")\n",
    "    elif i % birr == 0:\n",
    "        print(f\"{i}, Birr!\")\n",
    "    else:\n",
    "        print(f\"{i}\")"
   ]
  },
  {
   "cell_type": "code",
   "execution_count": null,
   "metadata": {},
   "outputs": [],
   "source": [
    "#Uppgift 2E\n",
    "\n",
    "tal1 = int(input(\"Välj start\"))\n",
    "tal2 = int(input(\"Välj stop\"))\n",
    "multipel1 = int(input(\"Välj en Burr multipel\"))\n",
    "multipel2 = int(input(\"Välj en Birr multipel\"))\n",
    "\n",
    "for i in range(tal1,tal2):\n",
    "    if i % multipel1 == 0:\n",
    "        print(f\"{i}, Burr!\")\n",
    "    elif i % multipel2 == 0:\n",
    "        print(f\"{i}, Birr!\")\n",
    "    else:\n",
    "        print(f\"{i}\")"
   ]
  },
  {
   "cell_type": "code",
   "execution_count": null,
   "metadata": {},
   "outputs": [],
   "source": [
    "#Uppgift 2F - För att utveckla programmet har jag valt att göra koden mer ren och lättare användaren att förstå.\n",
    "\n",
    "print(\"Detta är ett burr & birr verktyg. Välj start - stop och multipel till burr & birr.\")\n",
    "\n",
    "print(\" \")\n",
    "\n",
    "start = int(input(\"Välj start\")) #Detta är det tal som börjar koden. \n",
    "stop = int(input(\"Välj stop\")) #Detta är det tal som du väljer att programmet skall räkna till-\n",
    "burr = int(input(\"Välj en Burr multipel\")) #Detta är den multipel som programmet svarar burr\n",
    "birr = int(input(\"Välj en Birr multipel\")) #Detta är den multipel som programmet svarar birr\n",
    "\n",
    "for i in range(start,stop):  \n",
    "    if i % burr == 0:\n",
    "        print(f\"{i}, Burr!\")\n",
    "    elif i % birr == 0:\n",
    "        print(f\"{i}, Birr!\")\n",
    "    else:\n",
    "        print(f\"{i}\")"
   ]
  }
 ]
}