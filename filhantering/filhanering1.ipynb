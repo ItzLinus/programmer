{
 "metadata": {
  "language_info": {
   "codemirror_mode": {
    "name": "ipython",
    "version": 3
   },
   "file_extension": ".py",
   "mimetype": "text/x-python",
   "name": "python",
   "nbconvert_exporter": "python",
   "pygments_lexer": "ipython3",
   "version": "3.8.3-final"
  },
  "orig_nbformat": 2,
  "kernelspec": {
   "name": "python3",
   "display_name": "Python 3",
   "language": "python"
  }
 },
 "nbformat": 4,
 "nbformat_minor": 2,
 "cells": [
  {
   "cell_type": "code",
   "execution_count": null,
   "metadata": {},
   "outputs": [],
   "source": [
    "före1800 = []\n",
    "with open (\"Stora_forskare.txt\", \"r\") as f1:\n",
    "    for rad in f1:\n",
    "        #print(rad, end='')\n",
    "        rad = rad.strip(\" \\n\")\n",
    "        print(rad)\n",
    "\n",
    "        år = int(rad[-10:-6]) # typomvandlar årtalet till heltal\n",
    "        if år < 1800:\n",
    "            före1800.append(rad[:-11])\n",
    "    \n",
    "    \n",
    "    print(\"\\nFöljande förskare vad födda före 1800-talet.\")\n",
    "    for person in före1800:\n",
    "        print (person)\n",
    "    "
   ]
  },
  {
   "cell_type": "code",
   "execution_count": null,
   "metadata": {},
   "outputs": [],
   "source": [
    "with open(\"Stora_forskare.txt\", \"r\") as f1, open(\"Stora_forskare2.txt\", \"w\") as f2:\n",
    "    for rad in f1:\n",
    "        rad = rad.strip(\" \")\n",
    "        f2.write(rad)\n",
    "\n",
    "    f2.write(\"Andrew Wiles 1953-04-11\\n\")"
   ]
  },
  {
   "cell_type": "code",
   "execution_count": null,
   "metadata": {},
   "outputs": [],
   "source": [
    "with open(\"Stora_forskare2.txt\",\"w\") as f1:\n",
    "    f1.write(\"Marie Curie 1867-11-07\\n\") #Skriver över informationen i filen. "
   ]
  },
  {
   "cell_type": "code",
   "execution_count": null,
   "metadata": {},
   "outputs": [],
   "source": [
    "with open(\"Stora_forskare2.txt\", \"a\") as f1: # option: append, läggr till i din fil.\n",
    "    f1.write(\"Albert Einstein 1897-03-14\\n\")"
   ]
  },
  {
   "cell_type": "code",
   "execution_count": null,
   "metadata": {},
   "outputs": [],
   "source": [
    "# Uppgift 1\n",
    "from random import randint as rm\n",
    "kast = []\n",
    "with open(\"tärningskast.txt\", \"w\") as f1:\n",
    "    print(*[rm(1, 6) for i in range(10)])\n"
   ]
  },
  {
   "cell_type": "code",
   "execution_count": 58,
   "metadata": {},
   "outputs": [],
   "source": [
    "# Uppgift 1\n",
    "from random import randint as rm\n",
    "\n",
    "with open(\"tärningskast.txt\", \"w\") as f1:\n",
    "    kast = [rm(1, 6) for i in range(10)]\n",
    "    ojj = sorted(kast)\n",
    "    jasså = ojj.count(5)\n",
    "    f1.write(str(f\"\\n10 Simulerade tärningskast:\\n{kast}\\n\"))\n",
    "\n",
    "    f1.write(str(f\"\\nTärningskast i numrerad ordning:\\n{ojj}\\n\"))\n",
    "    f1.write(str(f\"\\nAntal femmor:\\n{jasså}\\n\"))"
   ]
  },
  {
   "cell_type": "code",
   "execution_count": null,
   "metadata": {},
   "outputs": [],
   "source": [
    "#Uppgift 2\n"
   ]
  }
 ]
}