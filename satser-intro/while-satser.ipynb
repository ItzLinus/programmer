{
 "metadata": {
  "language_info": {
   "codemirror_mode": {
    "name": "ipython",
    "version": 3
   },
   "file_extension": ".py",
   "mimetype": "text/x-python",
   "name": "python",
   "nbconvert_exporter": "python",
   "pygments_lexer": "ipython3",
   "version": 3
  },
  "orig_nbformat": 2
 },
 "nbformat": 4,
 "nbformat_minor": 2,
 "cells": [
  {
   "cell_type": "code",
   "execution_count": null,
   "metadata": {},
   "outputs": [],
   "source": [
    "summa, n= 0, 0\n",
    "\n",
    "while n < 10 :\n",
    "    summa += n\n",
    "    n += 1\n",
    "\n",
    "print (summa)"
   ]
  },
  {
   "cell_type": "code",
   "execution_count": null,
   "metadata": {},
   "outputs": [],
   "source": [
    "n = 0 \n",
    "\n",
    "while n < 10:\n",
    "    print(n)\n",
    "    n += 1"
   ]
  },
  {
   "source": [
    "fåglar = 8000\n",
    "år = 0\n",
    "\n",
    "print(f\"År {år}: antal fåglar: {fåglar}st\")\n",
    "\n",
    "while fåglar > 800:\n",
    "    år += 1\n",
    "    fåglar /= 2\n",
    "    print(f\" år )"
   ],
   "cell_type": "code",
   "metadata": {},
   "execution_count": null,
   "outputs": []
  }
 ]
}