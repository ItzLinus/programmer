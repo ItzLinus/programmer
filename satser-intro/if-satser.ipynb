{
 "metadata": {
  "language_info": {
   "codemirror_mode": {
    "name": "ipython",
    "version": 3
   },
   "file_extension": ".py",
   "mimetype": "text/x-python",
   "name": "python",
   "nbconvert_exporter": "python",
   "pygments_lexer": "ipython3",
   "version": "3.8.2-final"
  },
  "orig_nbformat": 2,
  "kernelspec": {
   "name": "python_defaultSpec_1600854505393",
   "display_name": "Python 3.8.2 64-bit"
  }
 },
 "nbformat": 4,
 "nbformat_minor": 2,
 "cells": [
  {
   "cell_type": "code",
   "execution_count": 1,
   "metadata": {
    "tags": []
   },
   "outputs": [
    {
     "output_type": "stream",
     "name": "stdout",
     "text": "Detta är ett verktyg som redovisar om ett tal är negativt, positivt eller noll.\n \n \n \nDitt tal är positivt.\n"
    }
   ],
   "source": [
    "print (\"Detta är ett verktyg som redovisar om ett tal är negativt, positivt eller noll.\")\n",
    "print (\" \")\n",
    "tal = int(input(\"Vänligen ange ett tal: \"))\n",
    "print(\" \")\n",
    "print(\" \")\n",
    "if tal == 0:\n",
    "        print(\"Ditt tal är 0.\")\n",
    "\n",
    "elif tal > 0:\n",
    "        print(\"Ditt tal är positivt.\")\n",
    "\n",
    "elif tal < 0: \n",
    "        print(\"Ditt tal är negativt. \")\n"
   ]
  },
  {
   "cell_type": "code",
   "execution_count": null,
   "metadata": {},
   "outputs": [],
   "source": []
  },
  {
   "cell_type": "code",
   "execution_count": 11,
   "metadata": {
    "tags": []
   },
   "outputs": [
    {
     "output_type": "stream",
     "name": "stdout",
     "text": "Med detta verktyg kan du ange ett tal jämnt, udda eller delbart på 5. \n \n14 är ett jämnt tal.\n \n \n"
    }
   ],
   "source": [
    "print(\"Med detta verktyg kan du ange ett tal jämnt, udda eller delbart på 5. \")\n",
    "print(\" \")\n",
    "tal = int(input(\"Ange ditt tal: \"))\n",
    "udda = tal % 2\n",
    "if udda > 0:\n",
    "    print(f\"{tal} är ett udda tal.\")\n",
    "else:\n",
    "    print(f\"{tal} är ett jämnt tal.\")\n",
    "if tal % 5 == 0:\n",
    "    print(f\"{tal} är delbart på 5.\")\n",
    "print(\" \")\n",
    "print(\" \")\n"
   ]
  },
  {
   "cell_type": "code",
   "execution_count": null,
   "metadata": {},
   "outputs": [],
   "source": [
    "sad"
   ]
  },
  {
   "cell_type": "code",
   "execution_count": 1,
   "metadata": {
    "tags": []
   },
   "outputs": [
    {
     "output_type": "error",
     "ename": "ValueError",
     "evalue": "could not convert string to float: ''",
     "traceback": [
      "\u001b[0;31m---------------------------------------------------------------------------\u001b[0m",
      "\u001b[0;31mValueError\u001b[0m                                Traceback (most recent call last)",
      "\u001b[0;32m<ipython-input-1-9bee2634ddf7>\u001b[0m in \u001b[0;36m<module>\u001b[0;34m\u001b[0m\n\u001b[0;32m----> 1\u001b[0;31m \u001b[0mvinkel\u001b[0m \u001b[0;34m=\u001b[0m \u001b[0mfloat\u001b[0m\u001b[0;34m(\u001b[0m\u001b[0minput\u001b[0m\u001b[0;34m(\u001b[0m\u001b[0;34m\"Ange en vinkel mellan 0 till 360: \"\u001b[0m\u001b[0;34m)\u001b[0m\u001b[0;34m)\u001b[0m\u001b[0;34m\u001b[0m\u001b[0;34m\u001b[0m\u001b[0m\n\u001b[0m\u001b[1;32m      2\u001b[0m \u001b[0;34m\u001b[0m\u001b[0m\n\u001b[1;32m      3\u001b[0m \u001b[0;32mif\u001b[0m \u001b[0mvinkel\u001b[0m \u001b[0;34m>=\u001b[0m \u001b[0;36m0\u001b[0m \u001b[0;32mand\u001b[0m \u001b[0mvinkel\u001b[0m \u001b[0;34m<\u001b[0m \u001b[0;36m90\u001b[0m\u001b[0;34m:\u001b[0m\u001b[0;34m\u001b[0m\u001b[0;34m\u001b[0m\u001b[0m\n\u001b[1;32m      4\u001b[0m     \u001b[0mprint\u001b[0m\u001b[0;34m(\u001b[0m\u001b[0;34mf\"{vinkel}°, Vinkeln är Spetsig.\"\u001b[0m\u001b[0;34m)\u001b[0m\u001b[0;34m\u001b[0m\u001b[0;34m\u001b[0m\u001b[0m\n\u001b[1;32m      5\u001b[0m \u001b[0;32melif\u001b[0m \u001b[0mvinkel\u001b[0m \u001b[0;34m==\u001b[0m \u001b[0;36m90\u001b[0m\u001b[0;34m:\u001b[0m\u001b[0;34m\u001b[0m\u001b[0;34m\u001b[0m\u001b[0m\n",
      "\u001b[0;31mValueError\u001b[0m: could not convert string to float: ''"
     ]
    }
   ],
   "source": [
    "vinkel = float(input(\"Ange en vinkel mellan 0 till 360: \"))\n",
    "\n",
    "if vinkel >= 0 and vinkel < 90:\n",
    "    print(f\"{vinkel}°, Vinkeln är Spetsig.\")\n",
    "elif vinkel == 90:\n",
    "    print(f\"{vinkel}°, Din vinkel är Rät.\")\n",
    "elif vinkel == 180:\n",
    "    print(f\"{vinkel}°, Vinkeln är en halv cirkel.\")\n",
    "elif vinkel == 360:\n",
    "    print(f\"{vinkel}°, Det är en full cirkel!\")\n",
    "elif vinkel > 90 and vinkel < 180:\n",
    "    print(f\"{vinkel}°, Vinkeln är Trubbig.\")\n",
    "else:\n",
    "    print(f\"Vinkeln {vinkel}°, är en konvex vinkel.\") "
   ]
  },
  {
   "cell_type": "code",
   "execution_count": null,
   "metadata": {},
   "outputs": [],
   "source": []
  }
 ]
}