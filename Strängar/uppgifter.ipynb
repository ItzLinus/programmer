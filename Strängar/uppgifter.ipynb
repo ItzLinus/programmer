{
 "metadata": {
  "language_info": {
   "codemirror_mode": {
    "name": "ipython",
    "version": 3
   },
   "file_extension": ".py",
   "mimetype": "text/x-python",
   "name": "python",
   "nbconvert_exporter": "python",
   "pygments_lexer": "ipython3",
   "version": "3.8.5-final"
  },
  "orig_nbformat": 2,
  "kernelspec": {
   "name": "python3",
   "display_name": "Python 3"
  }
 },
 "nbformat": 4,
 "nbformat_minor": 2,
 "cells": [
  {
   "cell_type": "code",
   "execution_count": null,
   "metadata": {},
   "outputs": [],
   "source": [
    "#Uppgift 1 \n",
    "print(\"Detta programmet räknar bokstäver i ditt namn. \")\n",
    "print(\" \")\n",
    "namn = input(\"Vänligen ange ditt namn:\")\n",
    "print(f\"I ditt namn finns {len(namn)} bokstäver\")"
   ]
  },
  {
   "cell_type": "code",
   "execution_count": null,
   "metadata": {},
   "outputs": [],
   "source": [
    "#Uppgift 2 \n",
    "mening = \"En bild säger mer än tusen ord, en matematisk formel säger mer än tusen bilder\"\n",
    "ord = len(mening.split())\n",
    "print(\"Detta programmet räknar ut antalet ord i denna mening:\")\n",
    "print(\"En bild säger mer än tusen ord, en matematisk formel säger mer än tusen bilder\")\n",
    "print(\" \")\n",
    "print(f\"I meningen finns det {ord} ord\")\n",
    "print(\" \")"
   ]
  },
  {
   "cell_type": "code",
   "execution_count": null,
   "metadata": {},
   "outputs": [],
   "source": [
    "#Uppgift 3\n",
    "\n"
   ]
  },
  {
   "cell_type": "code",
   "execution_count": null,
   "metadata": {},
   "outputs": [],
   "source": [
    "#Uppgift 4\n",
    "mening = \"Do not worry about your difficulties in Mathematics. I can assure you mine are still greater.\"\n",
    "low=mening.lower()\n",
    "\n",
    "vokal_antal={}\n",
    "\n",
    "for vokal in \"aouiåeiyäö\":\n",
    "    antal=low.count(vokal)\n",
    "    vokal_antal=antal\n",
    "\n",
    "totala_vokaler=int(sum(antal))\n",
    "\n",
    "print(totala_vokaler)\n",
    "    \n"
   ]
  },
  {
   "cell_type": "code",
   "execution_count": null,
   "metadata": {},
   "outputs": [],
   "source": [
    "##Uppgift 4\n",
    "def vowel_count(str): \n",
    "    antal = 0\n",
    "    vokal = set(\"aouåeiyäöAOUÅEIYÄÖ\") \n",
    "\n",
    "    for alfabet in str: \n",
    "        if alfabet in vokal: \n",
    "            antal = antal + 1\n",
    "      \n",
    "    print(\"Antal vokaler :\", antal) \n",
    "       \n",
    "str = \"Do not worry about your difficulties in Mathematics. I can assure you mine are still greater.\"\n",
    "\n",
    "vowel_count(str) "
   ]
  },
  {
   "cell_type": "code",
   "execution_count": null,
   "metadata": {},
   "outputs": [],
   "source": []
  }
 ]
}