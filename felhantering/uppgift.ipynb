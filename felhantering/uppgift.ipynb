{
 "metadata": {
  "language_info": {
   "codemirror_mode": {
    "name": "ipython",
    "version": 3
   },
   "file_extension": ".py",
   "mimetype": "text/x-python",
   "name": "python",
   "nbconvert_exporter": "python",
   "pygments_lexer": "ipython3",
   "version": "3.8.3-final"
  },
  "orig_nbformat": 2,
  "kernelspec": {
   "name": "python3",
   "display_name": "Python 3",
   "language": "python"
  }
 },
 "nbformat": 4,
 "nbformat_minor": 2,
 "cells": [
  {
   "cell_type": "code",
   "execution_count": null,
   "metadata": {},
   "outputs": [],
   "source": [
    "import numpy as np # import*\n",
    "\n",
    "def distance(x, y):\n",
    "    return np.sqrt(x+y)\n",
    "\n",
    "print(distance(0.5, 0.5)) # Ta bort []\n"
   ]
  },
  {
   "cell_type": "code",
   "execution_count": null,
   "metadata": {},
   "outputs": [],
   "source": [
    "def ar_fyrsirigt(tal):\n",
    "    if tal//9999 < 1 and tal >= 999 or tal <= -999:  # Lade till \"and\" och \"or\".\n",
    "        return True\n",
    "    else:\n",
    "        return False\n",
    "\n",
    "# Testprogram \n",
    "testtal = [100, 231, 10000, 10001, -1000, 102313]\n",
    "\n",
    "for t in testtal:\n",
    "    if ar_fyrsirigt(t):\n",
    "        print(f\"{t} är fyrsiffrigt.\")\n",
    "    else:\n",
    "        print(f\"{t} är inte fyrsiffrigt.\")\n"
   ]
  },
  {
   "cell_type": "code",
   "execution_count": null,
   "metadata": {},
   "outputs": [],
   "source": [
    "with open(\"Stora forskare.txt\", \"r\") as f1, open(\"Stora forskar2.txt\", \"w\") as f2:\n",
    "    for rad in f1:\n",
    "        rad = rad.strip(\" \")\n",
    "        f2.write(rad)\n",
    "\n",
    "    f2.write(\"Andre Wiles 1953-04-11\\n\")"
   ]
  },
  {
   "cell_type": "code",
   "execution_count": null,
   "metadata": {},
   "outputs": [],
   "source": [
    "with open(\"Stora forskare2.txt\",\"w\") as f1:\n",
    "    f1.write(\"Marie Curie 1867-11-07\") #Skriver över informationen i filen. "
   ]
  }
 ]
}