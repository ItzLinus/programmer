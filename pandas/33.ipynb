{
 "metadata": {
  "language_info": {
   "codemirror_mode": {
    "name": "ipython",
    "version": 3
   },
   "file_extension": ".py",
   "mimetype": "text/x-python",
   "name": "python",
   "nbconvert_exporter": "python",
   "pygments_lexer": "ipython3",
   "version": "3.9.0-final"
  },
  "orig_nbformat": 2,
  "kernelspec": {
   "name": "python3",
   "display_name": "Python 3.9.0 64-bit",
   "metadata": {
    "interpreter": {
     "hash": "7c02499deb1a505bb42fd41c09f8cf95ca224d2a0a71f9d16360f919a2f3d39f"
    }
   }
  }
 },
 "nbformat": 4,
 "nbformat_minor": 2,
 "cells": [
  {
   "cell_type": "code",
   "execution_count": null,
   "metadata": {},
   "outputs": [],
   "source": [
    "import pandas as pd\n",
    "import numpy as np\n",
    "import matplotlib as plt\n",
    "# df - Data Frame\n",
    "df = pd.read_csv(\"Matteprov.csv\")\n",
    "#print(df)\n",
    "\n",
    "\n",
    "# NaN - Not a Number (missing value i vårt fall)\n",
    "# df.dropna() # kastar alla rader som innehåller NaN\n",
    "\n",
    "# fyll alla NaN med noll\n",
    "df = df.fillna(0)\n",
    "\n",
    "# skapar en ny kolumn \"Total\" som tilldelas summan på varje rad.\n",
    "df['Total'] = df.sum(axis=1)\n",
    "df['Betyg'] = np.where(df['Total']>=8, \"Godkänt\", \"Underkänt\")\n",
    "df.head()"
   ]
  },
  {
   "cell_type": "code",
   "execution_count": null,
   "metadata": {},
   "outputs": [],
   "source": [
    "print(df[\"Elev\"])\n",
    "print(df[\"Betyg\"])"
   ]
  },
  {
   "cell_type": "code",
   "execution_count": null,
   "metadata": {},
   "outputs": [],
   "source": [
    "# Plocka ut rader med index :)\n",
    "df.iloc[2:5]"
   ]
  },
  {
   "cell_type": "code",
   "execution_count": 45,
   "metadata": {},
   "outputs": [
    {
     "output_type": "execute_result",
     "data": {
      "text/plain": [
       "0      True\n",
       "1      True\n",
       "2     False\n",
       "3      True\n",
       "4      True\n",
       "5     False\n",
       "6      True\n",
       "7     False\n",
       "8      True\n",
       "9     False\n",
       "10     True\n",
       "11    False\n",
       "Name: Betyg, dtype: bool"
      ]
     },
     "metadata": {},
     "execution_count": 45
    }
   ],
   "source": [
    "## Conditional Filtering\n",
    "\n",
    "df[\"Betyg\"] == \"Godkänt\""
   ]
  },
  {
   "cell_type": "code",
   "execution_count": 47,
   "metadata": {},
   "outputs": [
    {
     "output_type": "error",
     "ename": "NameError",
     "evalue": "name 'df_godkända' is not defined",
     "traceback": [
      "\u001b[1;31m---------------------------------------------------------------------------\u001b[0m",
      "\u001b[1;31mNameError\u001b[0m                                 Traceback (most recent call last)",
      "\u001b[1;32m<ipython-input-47-30a783a75447>\u001b[0m in \u001b[0;36m<module>\u001b[1;34m\u001b[0m\n\u001b[0;32m      1\u001b[0m \u001b[0mdf\u001b[0m\u001b[1;33m[\u001b[0m\u001b[0mdf\u001b[0m\u001b[1;33m[\u001b[0m\u001b[1;34m\"Betyg\"\u001b[0m\u001b[1;33m]\u001b[0m \u001b[1;33m==\u001b[0m \u001b[1;34m\"Godkänt\"\u001b[0m\u001b[1;33m]\u001b[0m\u001b[1;33m\u001b[0m\u001b[1;33m\u001b[0m\u001b[0m\n\u001b[1;32m----> 2\u001b[1;33m \u001b[0mdf_godkända\u001b[0m\u001b[1;33m\u001b[0m\u001b[1;33m\u001b[0m\u001b[0m\n\u001b[0m",
      "\u001b[1;31mNameError\u001b[0m: name 'df_godkända' is not defined"
     ]
    }
   ],
   "source": [
    "df_godkända = df[df[\"Betyg\"] == \"Godkänt\"]\n",
    "df_godkända"
   ]
  },
  {
   "cell_type": "code",
   "execution_count": null,
   "metadata": {},
   "outputs": [],
   "source": [
    "df_underkänt = df[df[\"Betyg\"] == \"Underkänt\"]\n",
    "df_underkänt"
   ]
  }
 ]
}