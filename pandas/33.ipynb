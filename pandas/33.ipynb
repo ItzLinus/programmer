{
 "metadata": {
  "language_info": {
   "codemirror_mode": {
    "name": "ipython",
    "version": 3
   },
   "file_extension": ".py",
   "mimetype": "text/x-python",
   "name": "python",
   "nbconvert_exporter": "python",
   "pygments_lexer": "ipython3",
   "version": "3.8.5-final"
  },
  "orig_nbformat": 2,
  "kernelspec": {
   "name": "python3",
   "display_name": "Python 3",
   "language": "python"
  }
 },
 "nbformat": 4,
 "nbformat_minor": 2,
 "cells": [
  {
   "cell_type": "code",
   "execution_count": null,
   "metadata": {},
   "outputs": [],
   "source": [
    "import pandas as pd\n",
    "import numpy as np\n",
    "import matplotlib as plt\n",
    "# df - Data Frame\n",
    "df = pd.read_csv(\"Matteprov.csv\")\n",
    "#print(df)\n",
    "\n",
    "\n",
    "# NaN - Not a Number (missing value i vårt fall)\n",
    "# df.dropna() # kastar alla rader som innehåller NaN\n",
    "\n",
    "# fyll alla NaN med noll\n",
    "df = df.fillna(0)\n",
    "\n",
    "# skapar en ny kolumn \"Total\" som tilldelas summan på varje rad.\n",
    "df['Total'] = df.sum(axis=1)\n",
    "df['Betyg'] = np.where(df['Total']>=8, \"Godkänt\", \"Underkänt\")\n",
    "df.head()"
   ]
  },
  {
   "cell_type": "code",
   "execution_count": null,
   "metadata": {},
   "outputs": [],
   "source": [
    "print(df[\"Elev\"])\n",
    "print(df[\"Betyg\"])"
   ]
  },
  {
   "cell_type": "code",
   "execution_count": null,
   "metadata": {},
   "outputs": [],
   "source": [
    "# Plocka ut rader med index :)\n",
    "df.iloc[2:5]"
   ]
  },
  {
   "cell_type": "code",
   "execution_count": null,
   "metadata": {},
   "outputs": [],
   "source": [
    "## Conditional Filtering\n",
    "\n",
    "df[\"Betyg\"] == \"Godkänt\""
   ]
  },
  {
   "cell_type": "code",
   "execution_count": null,
   "metadata": {},
   "outputs": [],
   "source": [
    "df_godkända = df[df[\"Betyg\"] == \"Godkänt\"]\n",
    "df_godkända"
   ]
  },
  {
   "cell_type": "code",
   "execution_count": null,
   "metadata": {},
   "outputs": [],
   "source": [
    "df_underkänt = df[df[\"Betyg\"] == \"Underkänt\"]\n",
    "df_underkänt"
   ]
  }
 ]
}