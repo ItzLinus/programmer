{
 "metadata": {
  "language_info": {
   "codemirror_mode": {
    "name": "ipython",
    "version": 3
   },
   "file_extension": ".py",
   "mimetype": "text/x-python",
   "name": "python",
   "nbconvert_exporter": "python",
   "pygments_lexer": "ipython3",
   "version": "3.8.3"
  },
  "orig_nbformat": 2,
  "kernelspec": {
   "name": "python3",
   "display_name": "Python 3.8.3 64-bit ('base': conda)",
   "metadata": {
    "interpreter": {
     "hash": "b3ba2566441a7c06988d0923437866b63cedc61552a5af99d1f4fb67d367b25f"
    }
   }
  }
 },
 "nbformat": 4,
 "nbformat_minor": 2,
 "cells": [
  {
   "cell_type": "code",
   "execution_count": null,
   "metadata": {},
   "outputs": [],
   "source": [
    "# Uppgift 1 \n",
    "import pandas as pd\n",
    "import numpy as np\n",
    "import matplotlib as plt\n",
    "\n",
    "df = pd.read_csv(\"syss.csv\")\n",
    "\n",
    "df.head(10)\n"
   ]
  },
  {
   "cell_type": "code",
   "execution_count": 56,
   "metadata": {},
   "outputs": [
    {
     "output_type": "stream",
     "name": "stdout",
     "text": [
      "Antal arbetare mellan 16-44 år var totalt 2706467 st.\n"
     ]
    },
    {
     "output_type": "execute_result",
     "data": {
      "text/plain": [
       "      Sysselsättning     Ålder      Kön    2019\n",
       "0   förärvsarbetande  16-19 år      män   58826\n",
       "1   förärvsarbetande  16-19 år  kvinnor   72847\n",
       "2   förärvsarbetande  20-24 år      män  192696\n",
       "3   förärvsarbetande  20-24 år  kvinnor  174074\n",
       "4   förärvsarbetande  25-29 år      män  293352\n",
       "5   förärvsarbetande  25-29 år  kvinnor  268587\n",
       "6   förärvsarbetande  30-34 år      män  303019\n",
       "7   förärvsarbetande  30-34 år  kvinnor  271975\n",
       "8   förärvsarbetande  35-39 år      män  280522\n",
       "9   förärvsarbetande  35-39 år  kvinnor  255391\n",
       "10  förärvsarbetande  40-44 år      män  275085\n",
       "11  förärvsarbetande  40-44 år  kvinnor  260093"
      ],
      "text/html": "<div>\n<style scoped>\n    .dataframe tbody tr th:only-of-type {\n        vertical-align: middle;\n    }\n\n    .dataframe tbody tr th {\n        vertical-align: top;\n    }\n\n    .dataframe thead th {\n        text-align: right;\n    }\n</style>\n<table border=\"1\" class=\"dataframe\">\n  <thead>\n    <tr style=\"text-align: right;\">\n      <th></th>\n      <th>Sysselsättning</th>\n      <th>Ålder</th>\n      <th>Kön</th>\n      <th>2019</th>\n    </tr>\n  </thead>\n  <tbody>\n    <tr>\n      <th>0</th>\n      <td>förärvsarbetande</td>\n      <td>16-19 år</td>\n      <td>män</td>\n      <td>58826</td>\n    </tr>\n    <tr>\n      <th>1</th>\n      <td>förärvsarbetande</td>\n      <td>16-19 år</td>\n      <td>kvinnor</td>\n      <td>72847</td>\n    </tr>\n    <tr>\n      <th>2</th>\n      <td>förärvsarbetande</td>\n      <td>20-24 år</td>\n      <td>män</td>\n      <td>192696</td>\n    </tr>\n    <tr>\n      <th>3</th>\n      <td>förärvsarbetande</td>\n      <td>20-24 år</td>\n      <td>kvinnor</td>\n      <td>174074</td>\n    </tr>\n    <tr>\n      <th>4</th>\n      <td>förärvsarbetande</td>\n      <td>25-29 år</td>\n      <td>män</td>\n      <td>293352</td>\n    </tr>\n    <tr>\n      <th>5</th>\n      <td>förärvsarbetande</td>\n      <td>25-29 år</td>\n      <td>kvinnor</td>\n      <td>268587</td>\n    </tr>\n    <tr>\n      <th>6</th>\n      <td>förärvsarbetande</td>\n      <td>30-34 år</td>\n      <td>män</td>\n      <td>303019</td>\n    </tr>\n    <tr>\n      <th>7</th>\n      <td>förärvsarbetande</td>\n      <td>30-34 år</td>\n      <td>kvinnor</td>\n      <td>271975</td>\n    </tr>\n    <tr>\n      <th>8</th>\n      <td>förärvsarbetande</td>\n      <td>35-39 år</td>\n      <td>män</td>\n      <td>280522</td>\n    </tr>\n    <tr>\n      <th>9</th>\n      <td>förärvsarbetande</td>\n      <td>35-39 år</td>\n      <td>kvinnor</td>\n      <td>255391</td>\n    </tr>\n    <tr>\n      <th>10</th>\n      <td>förärvsarbetande</td>\n      <td>40-44 år</td>\n      <td>män</td>\n      <td>275085</td>\n    </tr>\n    <tr>\n      <th>11</th>\n      <td>förärvsarbetande</td>\n      <td>40-44 år</td>\n      <td>kvinnor</td>\n      <td>260093</td>\n    </tr>\n  </tbody>\n</table>\n</div>"
     },
     "metadata": {},
     "execution_count": 56
    }
   ],
   "source": [
    "# Uppgift 1a\n",
    "\n",
    "work = df['2019'].iloc[0:12].sum()\n",
    "\n",
    "print(f'Antal arbetare mellan 16-44 år var totalt {work} st.')\n",
    "\n",
    "df.head(12)"
   ]
  },
  {
   "cell_type": "code",
   "execution_count": 57,
   "metadata": {},
   "outputs": [
    {
     "output_type": "stream",
     "name": "stdout",
     "text": [
      "Antal personer som ej arbetade under 2019 är 1070645 st.\n"
     ]
    },
    {
     "output_type": "execute_result",
     "data": {
      "text/plain": [
       "         Sysselsättning     Ålder      Kön    2019\n",
       "12  ej förärvsarbetande  16-19 år      män  176860\n",
       "13  ej förärvsarbetande  16-19 år  kvinnor  143432\n",
       "14  ej förärvsarbetande  20-24 år      män  117928\n",
       "15  ej förärvsarbetande  20-24 år  kvinnor  103001\n",
       "16  ej förärvsarbetande  25-29 år      män   86633\n",
       "17  ej förärvsarbetande  25-29 år  kvinnor   91124\n",
       "18  ej förärvsarbetande  30-34 år      män   64162\n",
       "19  ej förärvsarbetande  30-34 år  kvinnor   76735\n",
       "20  ej förärvsarbetande  35-39 år      män   53373\n",
       "21  ej förärvsarbetande  35-39 år  kvinnor   61312\n",
       "22  ej förärvsarbetande  40-44 år      män   46857\n",
       "23  ej förärvsarbetande  40-44 år  kvinnor   49228"
      ],
      "text/html": "<div>\n<style scoped>\n    .dataframe tbody tr th:only-of-type {\n        vertical-align: middle;\n    }\n\n    .dataframe tbody tr th {\n        vertical-align: top;\n    }\n\n    .dataframe thead th {\n        text-align: right;\n    }\n</style>\n<table border=\"1\" class=\"dataframe\">\n  <thead>\n    <tr style=\"text-align: right;\">\n      <th></th>\n      <th>Sysselsättning</th>\n      <th>Ålder</th>\n      <th>Kön</th>\n      <th>2019</th>\n    </tr>\n  </thead>\n  <tbody>\n    <tr>\n      <th>12</th>\n      <td>ej förärvsarbetande</td>\n      <td>16-19 år</td>\n      <td>män</td>\n      <td>176860</td>\n    </tr>\n    <tr>\n      <th>13</th>\n      <td>ej förärvsarbetande</td>\n      <td>16-19 år</td>\n      <td>kvinnor</td>\n      <td>143432</td>\n    </tr>\n    <tr>\n      <th>14</th>\n      <td>ej förärvsarbetande</td>\n      <td>20-24 år</td>\n      <td>män</td>\n      <td>117928</td>\n    </tr>\n    <tr>\n      <th>15</th>\n      <td>ej förärvsarbetande</td>\n      <td>20-24 år</td>\n      <td>kvinnor</td>\n      <td>103001</td>\n    </tr>\n    <tr>\n      <th>16</th>\n      <td>ej förärvsarbetande</td>\n      <td>25-29 år</td>\n      <td>män</td>\n      <td>86633</td>\n    </tr>\n    <tr>\n      <th>17</th>\n      <td>ej förärvsarbetande</td>\n      <td>25-29 år</td>\n      <td>kvinnor</td>\n      <td>91124</td>\n    </tr>\n    <tr>\n      <th>18</th>\n      <td>ej förärvsarbetande</td>\n      <td>30-34 år</td>\n      <td>män</td>\n      <td>64162</td>\n    </tr>\n    <tr>\n      <th>19</th>\n      <td>ej förärvsarbetande</td>\n      <td>30-34 år</td>\n      <td>kvinnor</td>\n      <td>76735</td>\n    </tr>\n    <tr>\n      <th>20</th>\n      <td>ej förärvsarbetande</td>\n      <td>35-39 år</td>\n      <td>män</td>\n      <td>53373</td>\n    </tr>\n    <tr>\n      <th>21</th>\n      <td>ej förärvsarbetande</td>\n      <td>35-39 år</td>\n      <td>kvinnor</td>\n      <td>61312</td>\n    </tr>\n    <tr>\n      <th>22</th>\n      <td>ej förärvsarbetande</td>\n      <td>40-44 år</td>\n      <td>män</td>\n      <td>46857</td>\n    </tr>\n    <tr>\n      <th>23</th>\n      <td>ej förärvsarbetande</td>\n      <td>40-44 år</td>\n      <td>kvinnor</td>\n      <td>49228</td>\n    </tr>\n  </tbody>\n</table>\n</div>"
     },
     "metadata": {},
     "execution_count": 57
    }
   ],
   "source": [
    "# Uppgift 1b\n",
    "\n",
    "noWork = df[\"2019\"].iloc[12:24].sum()\n",
    "\n",
    "print(f'Antal personer som ej arbetade under 2019 är {noWork} st.')\n",
    "\n",
    "df.iloc[12:24]"
   ]
  },
  {
   "cell_type": "code",
   "execution_count": 58,
   "metadata": {},
   "outputs": [
    {
     "output_type": "display_data",
     "data": {
      "text/plain": "<Figure size 432x288 with 1 Axes>",
      "image/svg+xml": "<?xml version=\"1.0\" encoding=\"utf-8\" standalone=\"no\"?>\r\n<!DOCTYPE svg PUBLIC \"-//W3C//DTD SVG 1.1//EN\"\r\n  \"http://www.w3.org/Graphics/SVG/1.1/DTD/svg11.dtd\">\r\n<!-- Created with matplotlib (https://matplotlib.org/) -->\r\n<svg height=\"246.958125pt\" version=\"1.1\" viewBox=\"0 0 231.84 246.958125\" width=\"231.84pt\" xmlns=\"http://www.w3.org/2000/svg\" xmlns:xlink=\"http://www.w3.org/1999/xlink\">\r\n <defs>\r\n  <style type=\"text/css\">\r\n*{stroke-linecap:butt;stroke-linejoin:round;}\r\n  </style>\r\n </defs>\r\n <g id=\"figure_1\">\r\n  <g id=\"patch_1\">\r\n   <path d=\"M 0 246.958125 \r\nL 231.84 246.958125 \r\nL 231.84 0 \r\nL 0 0 \r\nz\r\n\" style=\"fill:none;\"/>\r\n  </g>\r\n  <g id=\"axes_1\">\r\n   <g id=\"patch_2\">\r\n    <path d=\"M 202.896 131.038125 \r\nC 202.896 114.615349 198.244587 98.523596 189.482493 84.633554 \r\nC 180.720399 70.743512 168.200848 59.615124 153.379255 52.542082 \r\nC 138.557662 45.469039 122.031523 42.736475 105.722025 44.662053 \r\nC 89.412528 46.58763 73.97715 53.093725 61.210275 63.423995 \r\nC 48.443401 73.754265 38.859695 87.492269 33.573279 103.040946 \r\nC 28.286862 118.589623 27.510842 135.322165 31.335434 151.293391 \r\nC 35.160026 167.264617 43.431049 181.830685 55.186986 193.29827 \r\nC 66.942923 204.765854 81.709862 212.672668 97.771125 216.099532 \r\nL 115.92 131.038125 \r\nL 202.896 131.038125 \r\nz\r\n\" style=\"fill:#cd5c5c;\"/>\r\n   </g>\r\n   <g id=\"patch_3\">\r\n    <path d=\"M 97.771125 216.099532 \r\nC 110.447611 218.804213 123.569845 218.641282 136.17527 215.62269 \r\nC 148.780694 212.604098 160.553369 206.805503 170.629731 198.65225 \r\nC 180.706094 190.498997 188.833592 180.195437 194.416048 168.497369 \r\nC 199.998505 156.799301 202.896002 143.999923 202.896 131.038109 \r\nL 115.92 131.038125 \r\nL 97.771125 216.099532 \r\nz\r\n\" style=\"fill:#f08080;\"/>\r\n   </g>\r\n   <g id=\"matplotlib.axis_1\"/>\r\n   <g id=\"matplotlib.axis_2\"/>\r\n   <g id=\"text_1\">\r\n    <!-- Work -->\r\n    <defs>\r\n     <path d=\"M 3.328125 72.90625 \r\nL 13.28125 72.90625 \r\nL 28.609375 11.28125 \r\nL 43.890625 72.90625 \r\nL 54.984375 72.90625 \r\nL 70.3125 11.28125 \r\nL 85.59375 72.90625 \r\nL 95.609375 72.90625 \r\nL 77.296875 0 \r\nL 64.890625 0 \r\nL 49.515625 63.28125 \r\nL 33.984375 0 \r\nL 21.578125 0 \r\nz\r\n\" id=\"DejaVuSans-87\"/>\r\n     <path d=\"M 30.609375 48.390625 \r\nQ 23.390625 48.390625 19.1875 42.75 \r\nQ 14.984375 37.109375 14.984375 27.296875 \r\nQ 14.984375 17.484375 19.15625 11.84375 \r\nQ 23.34375 6.203125 30.609375 6.203125 \r\nQ 37.796875 6.203125 41.984375 11.859375 \r\nQ 46.1875 17.53125 46.1875 27.296875 \r\nQ 46.1875 37.015625 41.984375 42.703125 \r\nQ 37.796875 48.390625 30.609375 48.390625 \r\nz\r\nM 30.609375 56 \r\nQ 42.328125 56 49.015625 48.375 \r\nQ 55.71875 40.765625 55.71875 27.296875 \r\nQ 55.71875 13.875 49.015625 6.21875 \r\nQ 42.328125 -1.421875 30.609375 -1.421875 \r\nQ 18.84375 -1.421875 12.171875 6.21875 \r\nQ 5.515625 13.875 5.515625 27.296875 \r\nQ 5.515625 40.765625 12.171875 48.375 \r\nQ 18.84375 56 30.609375 56 \r\nz\r\n\" id=\"DejaVuSans-111\"/>\r\n     <path d=\"M 41.109375 46.296875 \r\nQ 39.59375 47.171875 37.8125 47.578125 \r\nQ 36.03125 48 33.890625 48 \r\nQ 26.265625 48 22.1875 43.046875 \r\nQ 18.109375 38.09375 18.109375 28.8125 \r\nL 18.109375 0 \r\nL 9.078125 0 \r\nL 9.078125 54.6875 \r\nL 18.109375 54.6875 \r\nL 18.109375 46.1875 \r\nQ 20.953125 51.171875 25.484375 53.578125 \r\nQ 30.03125 56 36.53125 56 \r\nQ 37.453125 56 38.578125 55.875 \r\nQ 39.703125 55.765625 41.0625 55.515625 \r\nz\r\n\" id=\"DejaVuSans-114\"/>\r\n     <path d=\"M 9.078125 75.984375 \r\nL 18.109375 75.984375 \r\nL 18.109375 31.109375 \r\nL 44.921875 54.6875 \r\nL 56.390625 54.6875 \r\nL 27.390625 29.109375 \r\nL 57.625 0 \r\nL 45.90625 0 \r\nL 18.109375 26.703125 \r\nL 18.109375 0 \r\nL 9.078125 0 \r\nz\r\n\" id=\"DejaVuSans-107\"/>\r\n    </defs>\r\n    <g transform=\"translate(30.41899 59.421957)scale(0.1 -0.1)\">\r\n     <use xlink:href=\"#DejaVuSans-87\"/>\r\n     <use x=\"93.001953\" xlink:href=\"#DejaVuSans-111\"/>\r\n     <use x=\"154.183594\" xlink:href=\"#DejaVuSans-114\"/>\r\n     <use x=\"195.296875\" xlink:href=\"#DejaVuSans-107\"/>\r\n    </g>\r\n   </g>\r\n   <g id=\"text_2\">\r\n    <!-- 71.7% -->\r\n    <defs>\r\n     <path d=\"M 8.203125 72.90625 \r\nL 55.078125 72.90625 \r\nL 55.078125 68.703125 \r\nL 28.609375 0 \r\nL 18.3125 0 \r\nL 43.21875 64.59375 \r\nL 8.203125 64.59375 \r\nz\r\n\" id=\"DejaVuSans-55\"/>\r\n     <path d=\"M 12.40625 8.296875 \r\nL 28.515625 8.296875 \r\nL 28.515625 63.921875 \r\nL 10.984375 60.40625 \r\nL 10.984375 69.390625 \r\nL 28.421875 72.90625 \r\nL 38.28125 72.90625 \r\nL 38.28125 8.296875 \r\nL 54.390625 8.296875 \r\nL 54.390625 0 \r\nL 12.40625 0 \r\nz\r\n\" id=\"DejaVuSans-49\"/>\r\n     <path d=\"M 10.6875 12.40625 \r\nL 21 12.40625 \r\nL 21 0 \r\nL 10.6875 0 \r\nz\r\n\" id=\"DejaVuSans-46\"/>\r\n     <path d=\"M 72.703125 32.078125 \r\nQ 68.453125 32.078125 66.03125 28.46875 \r\nQ 63.625 24.859375 63.625 18.40625 \r\nQ 63.625 12.0625 66.03125 8.421875 \r\nQ 68.453125 4.78125 72.703125 4.78125 \r\nQ 76.859375 4.78125 79.265625 8.421875 \r\nQ 81.6875 12.0625 81.6875 18.40625 \r\nQ 81.6875 24.8125 79.265625 28.4375 \r\nQ 76.859375 32.078125 72.703125 32.078125 \r\nz\r\nM 72.703125 38.28125 \r\nQ 80.421875 38.28125 84.953125 32.90625 \r\nQ 89.5 27.546875 89.5 18.40625 \r\nQ 89.5 9.28125 84.9375 3.921875 \r\nQ 80.375 -1.421875 72.703125 -1.421875 \r\nQ 64.890625 -1.421875 60.34375 3.921875 \r\nQ 55.8125 9.28125 55.8125 18.40625 \r\nQ 55.8125 27.59375 60.375 32.9375 \r\nQ 64.9375 38.28125 72.703125 38.28125 \r\nz\r\nM 22.3125 68.015625 \r\nQ 18.109375 68.015625 15.6875 64.375 \r\nQ 13.28125 60.75 13.28125 54.390625 \r\nQ 13.28125 47.953125 15.671875 44.328125 \r\nQ 18.0625 40.71875 22.3125 40.71875 \r\nQ 26.5625 40.71875 28.96875 44.328125 \r\nQ 31.390625 47.953125 31.390625 54.390625 \r\nQ 31.390625 60.6875 28.953125 64.34375 \r\nQ 26.515625 68.015625 22.3125 68.015625 \r\nz\r\nM 66.40625 74.21875 \r\nL 74.21875 74.21875 \r\nL 28.609375 -1.421875 \r\nL 20.796875 -1.421875 \r\nz\r\nM 22.3125 74.21875 \r\nQ 30.03125 74.21875 34.609375 68.875 \r\nQ 39.203125 63.53125 39.203125 54.390625 \r\nQ 39.203125 45.171875 34.640625 39.84375 \r\nQ 30.078125 34.515625 22.3125 34.515625 \r\nQ 14.546875 34.515625 10.03125 39.859375 \r\nQ 5.515625 45.21875 5.515625 54.390625 \r\nQ 5.515625 63.484375 10.046875 68.84375 \r\nQ 14.59375 74.21875 22.3125 74.21875 \r\nz\r\n\" id=\"DejaVuSans-37\"/>\r\n    </defs>\r\n    <g transform=\"translate(67.210571 93.229022)scale(0.1 -0.1)\">\r\n     <use xlink:href=\"#DejaVuSans-55\"/>\r\n     <use x=\"63.623047\" xlink:href=\"#DejaVuSans-49\"/>\r\n     <use x=\"127.246094\" xlink:href=\"#DejaVuSans-46\"/>\r\n     <use x=\"159.033203\" xlink:href=\"#DejaVuSans-55\"/>\r\n     <use x=\"222.65625\" xlink:href=\"#DejaVuSans-37\"/>\r\n    </g>\r\n   </g>\r\n   <g id=\"text_3\">\r\n    <!-- No Work! -->\r\n    <defs>\r\n     <path d=\"M 9.8125 72.90625 \r\nL 23.09375 72.90625 \r\nL 55.421875 11.921875 \r\nL 55.421875 72.90625 \r\nL 64.984375 72.90625 \r\nL 64.984375 0 \r\nL 51.703125 0 \r\nL 19.390625 60.984375 \r\nL 19.390625 0 \r\nL 9.8125 0 \r\nz\r\n\" id=\"DejaVuSans-78\"/>\r\n     <path id=\"DejaVuSans-32\"/>\r\n     <path d=\"M 15.09375 12.40625 \r\nL 25 12.40625 \r\nL 25 0 \r\nL 15.09375 0 \r\nz\r\nM 15.09375 72.90625 \r\nL 25 72.90625 \r\nL 25 40.921875 \r\nL 24.03125 23.484375 \r\nL 16.109375 23.484375 \r\nL 15.09375 40.921875 \r\nz\r\n\" id=\"DejaVuSans-33\"/>\r\n    </defs>\r\n    <g transform=\"translate(176.100704 208.173037)scale(0.1 -0.1)\">\r\n     <use xlink:href=\"#DejaVuSans-78\"/>\r\n     <use x=\"74.804688\" xlink:href=\"#DejaVuSans-111\"/>\r\n     <use x=\"135.986328\" xlink:href=\"#DejaVuSans-32\"/>\r\n     <use x=\"167.773438\" xlink:href=\"#DejaVuSans-87\"/>\r\n     <use x=\"260.775391\" xlink:href=\"#DejaVuSans-111\"/>\r\n     <use x=\"321.957031\" xlink:href=\"#DejaVuSans-114\"/>\r\n     <use x=\"363.070312\" xlink:href=\"#DejaVuSans-107\"/>\r\n     <use x=\"420.980469\" xlink:href=\"#DejaVuSans-33\"/>\r\n    </g>\r\n   </g>\r\n   <g id=\"text_4\">\r\n    <!-- 28.3% -->\r\n    <defs>\r\n     <path d=\"M 19.1875 8.296875 \r\nL 53.609375 8.296875 \r\nL 53.609375 0 \r\nL 7.328125 0 \r\nL 7.328125 8.296875 \r\nQ 12.9375 14.109375 22.625 23.890625 \r\nQ 32.328125 33.6875 34.8125 36.53125 \r\nQ 39.546875 41.84375 41.421875 45.53125 \r\nQ 43.3125 49.21875 43.3125 52.78125 \r\nQ 43.3125 58.59375 39.234375 62.25 \r\nQ 35.15625 65.921875 28.609375 65.921875 \r\nQ 23.96875 65.921875 18.8125 64.3125 \r\nQ 13.671875 62.703125 7.8125 59.421875 \r\nL 7.8125 69.390625 \r\nQ 13.765625 71.78125 18.9375 73 \r\nQ 24.125 74.21875 28.421875 74.21875 \r\nQ 39.75 74.21875 46.484375 68.546875 \r\nQ 53.21875 62.890625 53.21875 53.421875 \r\nQ 53.21875 48.921875 51.53125 44.890625 \r\nQ 49.859375 40.875 45.40625 35.40625 \r\nQ 44.1875 33.984375 37.640625 27.21875 \r\nQ 31.109375 20.453125 19.1875 8.296875 \r\nz\r\n\" id=\"DejaVuSans-50\"/>\r\n     <path d=\"M 31.78125 34.625 \r\nQ 24.75 34.625 20.71875 30.859375 \r\nQ 16.703125 27.09375 16.703125 20.515625 \r\nQ 16.703125 13.921875 20.71875 10.15625 \r\nQ 24.75 6.390625 31.78125 6.390625 \r\nQ 38.8125 6.390625 42.859375 10.171875 \r\nQ 46.921875 13.96875 46.921875 20.515625 \r\nQ 46.921875 27.09375 42.890625 30.859375 \r\nQ 38.875 34.625 31.78125 34.625 \r\nz\r\nM 21.921875 38.8125 \r\nQ 15.578125 40.375 12.03125 44.71875 \r\nQ 8.5 49.078125 8.5 55.328125 \r\nQ 8.5 64.0625 14.71875 69.140625 \r\nQ 20.953125 74.21875 31.78125 74.21875 \r\nQ 42.671875 74.21875 48.875 69.140625 \r\nQ 55.078125 64.0625 55.078125 55.328125 \r\nQ 55.078125 49.078125 51.53125 44.71875 \r\nQ 48 40.375 41.703125 38.8125 \r\nQ 48.828125 37.15625 52.796875 32.3125 \r\nQ 56.78125 27.484375 56.78125 20.515625 \r\nQ 56.78125 9.90625 50.3125 4.234375 \r\nQ 43.84375 -1.421875 31.78125 -1.421875 \r\nQ 19.734375 -1.421875 13.25 4.234375 \r\nQ 6.78125 9.90625 6.78125 20.515625 \r\nQ 6.78125 27.484375 10.78125 32.3125 \r\nQ 14.796875 37.15625 21.921875 38.8125 \r\nz\r\nM 18.3125 54.390625 \r\nQ 18.3125 48.734375 21.84375 45.5625 \r\nQ 25.390625 42.390625 31.78125 42.390625 \r\nQ 38.140625 42.390625 41.71875 45.5625 \r\nQ 45.3125 48.734375 45.3125 54.390625 \r\nQ 45.3125 60.0625 41.71875 63.234375 \r\nQ 38.140625 66.40625 31.78125 66.40625 \r\nQ 25.390625 66.40625 21.84375 63.234375 \r\nQ 18.3125 60.0625 18.3125 54.390625 \r\nz\r\n\" id=\"DejaVuSans-56\"/>\r\n     <path d=\"M 40.578125 39.3125 \r\nQ 47.65625 37.796875 51.625 33 \r\nQ 55.609375 28.21875 55.609375 21.1875 \r\nQ 55.609375 10.40625 48.1875 4.484375 \r\nQ 40.765625 -1.421875 27.09375 -1.421875 \r\nQ 22.515625 -1.421875 17.65625 -0.515625 \r\nQ 12.796875 0.390625 7.625 2.203125 \r\nL 7.625 11.71875 \r\nQ 11.71875 9.328125 16.59375 8.109375 \r\nQ 21.484375 6.890625 26.8125 6.890625 \r\nQ 36.078125 6.890625 40.9375 10.546875 \r\nQ 45.796875 14.203125 45.796875 21.1875 \r\nQ 45.796875 27.640625 41.28125 31.265625 \r\nQ 36.765625 34.90625 28.71875 34.90625 \r\nL 20.21875 34.90625 \r\nL 20.21875 43.015625 \r\nL 29.109375 43.015625 \r\nQ 36.375 43.015625 40.234375 45.921875 \r\nQ 44.09375 48.828125 44.09375 54.296875 \r\nQ 44.09375 59.90625 40.109375 62.90625 \r\nQ 36.140625 65.921875 28.71875 65.921875 \r\nQ 24.65625 65.921875 20.015625 65.03125 \r\nQ 15.375 64.15625 9.8125 62.3125 \r\nL 9.8125 71.09375 \r\nQ 15.4375 72.65625 20.34375 73.4375 \r\nQ 25.25 74.21875 29.59375 74.21875 \r\nQ 40.828125 74.21875 47.359375 69.109375 \r\nQ 53.90625 64.015625 53.90625 55.328125 \r\nQ 53.90625 49.265625 50.4375 45.09375 \r\nQ 46.96875 40.921875 40.578125 39.3125 \r\nz\r\n\" id=\"DejaVuSans-51\"/>\r\n    </defs>\r\n    <g transform=\"translate(132.862245 174.365975)scale(0.1 -0.1)\">\r\n     <use xlink:href=\"#DejaVuSans-50\"/>\r\n     <use x=\"63.623047\" xlink:href=\"#DejaVuSans-56\"/>\r\n     <use x=\"127.246094\" xlink:href=\"#DejaVuSans-46\"/>\r\n     <use x=\"159.033203\" xlink:href=\"#DejaVuSans-51\"/>\r\n     <use x=\"222.65625\" xlink:href=\"#DejaVuSans-37\"/>\r\n    </g>\r\n   </g>\r\n   <g id=\"text_5\">\r\n    <!-- Work or No work?! -->\r\n    <defs>\r\n     <path d=\"M 4.203125 54.6875 \r\nL 13.1875 54.6875 \r\nL 24.421875 12.015625 \r\nL 35.59375 54.6875 \r\nL 46.1875 54.6875 \r\nL 57.421875 12.015625 \r\nL 68.609375 54.6875 \r\nL 77.59375 54.6875 \r\nL 63.28125 0 \r\nL 52.6875 0 \r\nL 40.921875 44.828125 \r\nL 29.109375 0 \r\nL 18.5 0 \r\nz\r\n\" id=\"DejaVuSans-119\"/>\r\n     <path d=\"M 19.09375 12.40625 \r\nL 29 12.40625 \r\nL 29 0 \r\nL 19.09375 0 \r\nz\r\nM 28.71875 19.578125 \r\nL 19.390625 19.578125 \r\nL 19.390625 27.09375 \r\nQ 19.390625 32.03125 20.75 35.203125 \r\nQ 22.125 38.375 26.515625 42.578125 \r\nL 30.90625 46.921875 \r\nQ 33.6875 49.515625 34.9375 51.8125 \r\nQ 36.1875 54.109375 36.1875 56.5 \r\nQ 36.1875 60.84375 32.984375 63.53125 \r\nQ 29.78125 66.21875 24.515625 66.21875 \r\nQ 20.65625 66.21875 16.28125 64.5 \r\nQ 11.921875 62.796875 7.171875 59.515625 \r\nL 7.171875 68.703125 \r\nQ 11.765625 71.484375 16.46875 72.84375 \r\nQ 21.1875 74.21875 26.21875 74.21875 \r\nQ 35.203125 74.21875 40.640625 69.484375 \r\nQ 46.09375 64.75 46.09375 56.984375 \r\nQ 46.09375 53.265625 44.328125 49.921875 \r\nQ 42.578125 46.578125 38.1875 42.390625 \r\nL 33.890625 38.1875 \r\nQ 31.59375 35.890625 30.640625 34.59375 \r\nQ 29.6875 33.296875 29.296875 32.078125 \r\nQ 29 31.0625 28.859375 29.59375 \r\nQ 28.71875 28.125 28.71875 25.59375 \r\nz\r\n\" id=\"DejaVuSans-63\"/>\r\n    </defs>\r\n    <g transform=\"translate(60.6 16.318125)scale(0.12 -0.12)\">\r\n     <use xlink:href=\"#DejaVuSans-87\"/>\r\n     <use x=\"93.001953\" xlink:href=\"#DejaVuSans-111\"/>\r\n     <use x=\"154.183594\" xlink:href=\"#DejaVuSans-114\"/>\r\n     <use x=\"195.296875\" xlink:href=\"#DejaVuSans-107\"/>\r\n     <use x=\"253.207031\" xlink:href=\"#DejaVuSans-32\"/>\r\n     <use x=\"284.994141\" xlink:href=\"#DejaVuSans-111\"/>\r\n     <use x=\"346.175781\" xlink:href=\"#DejaVuSans-114\"/>\r\n     <use x=\"387.289062\" xlink:href=\"#DejaVuSans-32\"/>\r\n     <use x=\"419.076172\" xlink:href=\"#DejaVuSans-78\"/>\r\n     <use x=\"493.880859\" xlink:href=\"#DejaVuSans-111\"/>\r\n     <use x=\"555.0625\" xlink:href=\"#DejaVuSans-32\"/>\r\n     <use x=\"586.849609\" xlink:href=\"#DejaVuSans-119\"/>\r\n     <use x=\"668.636719\" xlink:href=\"#DejaVuSans-111\"/>\r\n     <use x=\"729.818359\" xlink:href=\"#DejaVuSans-114\"/>\r\n     <use x=\"770.931641\" xlink:href=\"#DejaVuSans-107\"/>\r\n     <use x=\"828.841797\" xlink:href=\"#DejaVuSans-63\"/>\r\n     <use x=\"881.917969\" xlink:href=\"#DejaVuSans-33\"/>\r\n    </g>\r\n   </g>\r\n  </g>\r\n </g>\r\n</svg>\r\n",
      "image/png": "[encoded data removed]"
     },
     "metadata": {}
    }
   ],
   "source": [
    "# Uppgift 1c\n",
    "import matplotlib.pyplot as plt\n",
    "\n",
    "zero = []\n",
    "\n",
    "Work = df[\"2019\"].iloc[0:12].sum()\n",
    "noWork = df[\"2019\"].iloc[12:24].sum()\n",
    "\n",
    "zero.append(Work)\n",
    "zero.append(noWork)\n",
    "\n",
    "labbliee = 'Work', 'No Work!'\n",
    "lacolor = 'indianred', 'LightCoral'\n",
    "\n",
    "plt.pie(zero, labels=labbliee, autopct='%1.1f%%', colors=lacolor)\n",
    "plt.title(\"Work or No work?!\")\n",
    "plt.show()"
   ]
  },
  {
   "cell_type": "code",
   "execution_count": null,
   "metadata": {},
   "outputs": [],
   "source": []
  }
 ]
}