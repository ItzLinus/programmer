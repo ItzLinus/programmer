{
 "metadata": {
  "language_info": {
   "codemirror_mode": {
    "name": "ipython",
    "version": 3
   },
   "file_extension": ".py",
   "mimetype": "text/x-python",
   "name": "python",
   "nbconvert_exporter": "python",
   "pygments_lexer": "ipython3",
   "version": "3.8.5-final"
  },
  "orig_nbformat": 2,
  "kernelspec": {
   "name": "python38564bit9c1c31e359644baf97f5608b996deb66",
   "display_name": "Python 3.8.5 64-bit",
   "language": "python"
  }
 },
 "nbformat": 4,
 "nbformat_minor": 2,
 "cells": [
  {
   "cell_type": "code",
   "execution_count": 19,
   "metadata": {},
   "outputs": [
    {
     "output_type": "stream",
     "name": "stdout",
     "text": [
      "                                      Befolkningen 16+ år efter sysselsättning, ålder, kön och år\nsysselsättning      ålder    kön                                                   2019          \nförvärvsarbetande   16-19 år män                                                  58826          \nförärvsarbetande    16-19 år kvinnor                                              72847          \n                    20-24 år män                                                 192696          \n                             kvinnor                                             174074          \n                    25-29 år män                                                 293352          \n                             kvinnor                                             268587          \n                    30-34 år män                                                 303019          \n                             kvinnor                                             271975          \n                    35-39 år män                                                 280522          \n                             kvinnor                                             255391          \n                    40-44 år män                                                 275085          \n                             kvinnor                                             260093          \nej förärvsarbetande 16-19 år män                                                 176860          \n                             kvinnor                                             143432          \n                    20-24 år män                                                 117928          \n                             kvinnor                                             103001          \n                    25-29 år män                                                  86633          \n                             kvinnor                                              91124          \n                    30-34 år män                                                  64162          \n                             kvinnor                                              76735          \n                    35-39 år män                                                  53373          \n                             kvinnor                                              61312          \n                    40-44 år män                                                  46857          \n                             kvinnor                                              49228          \n"
     ]
    }
   ],
   "source": [
    "# Uppgift 1 \n",
    "import pandas as pd\n",
    "import numpy as np\n",
    "import matplotlib as plt\n",
    "\n",
    "df = pd.read_csv(\"syss.csv\")\n",
    "\n",
    "print(df)\n",
    "\n"
   ]
  },
  {
   "cell_type": "code",
   "execution_count": null,
   "metadata": {},
   "outputs": [],
   "source": []
  }
 ]
}