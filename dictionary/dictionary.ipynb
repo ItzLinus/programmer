{
 "metadata": {
  "language_info": {
   "codemirror_mode": {
    "name": "ipython",
    "version": 3
   },
   "file_extension": ".py",
   "mimetype": "text/x-python",
   "name": "python",
   "nbconvert_exporter": "python",
   "pygments_lexer": "ipython3",
   "version": "3.9.0-final"
  },
  "orig_nbformat": 2,
  "kernelspec": {
   "name": "python3",
   "display_name": "Python 3.9.0 64-bit",
   "metadata": {
    "interpreter": {
     "hash": "7c02499deb1a505bb42fd41c09f8cf95ca224d2a0a71f9d16360f919a2f3d39f"
    }
   }
  }
 },
 "nbformat": 4,
 "nbformat_minor": 2,
 "cells": [
  {
   "cell_type": "code",
   "execution_count": null,
   "metadata": {},
   "outputs": [],
   "source": [
    "# syntax med dict()\n",
    "person = dict(\n",
    "    namn = \"Linus\",\n",
    "    ålder = 17,\n",
    "    yrke = \"elev\",\n",
    "    arbetsplats = \"Hemma\",\n",
    ")\n",
    "\n",
    "print(f\"Personens namn är {person['namn']}\")\n",
    "print(f\"Han är {person['ålder']} år gammal\")\n",
    "print(f\"{person['namn']} jobbar som {person['yrke']}, {person['arbetsplats']}\")"
   ]
  },
  {
   "cell_type": "code",
   "execution_count": null,
   "metadata": {},
   "outputs": [],
   "source": [
    "# syntax med måsvingar {}\n",
    "glosor = {\n",
    "    \"tilldela\":\"ge ett värde till en variabel\",\n",
    "    \"datastruktur\":\"strukturering av data\",\n",
    "    \"sträng\":\"sekvens av tecken\"\n",
    "}\n",
    "# lägga till element i dictionary\n",
    "glosor[\"dictionary\"] = \"datastruktur for att spara data i key:dalue par\"\n",
    "\n",
    "\n",
    "print(\"Orden vi ska lära oss är: \")\n",
    "# itererear över nycklarna i dictionary\n",
    "for key in glosor:\n",
    "    print(key, end =\", \")\n",
    "\n",
    "print(\"\\n\\nGlosa \\t\\t Betydelse\")\n",
    "# itererar över nycket, värde i dictionary\n",
    "for key, value in glosor.items():\n",
    "    print(f\"{key}  \\t {value}\")"
   ]
  },
  {
   "cell_type": "code",
   "execution_count": null,
   "metadata": {},
   "outputs": [],
   "source": [
    "husdjur = {\n",
    "    \"djur\": \"fisk\",\n",
    "    \"ålder\": 5,\n",
    "    \"ätbar\": False,\n",
    "    \"actions\":[\"simma fram\", \"simma bak\", \"simma höger\"]\n",
    "}\n",
    "\n",
    "print(husdjur[\"actions\"][1])\n"
   ]
  },
  {
   "cell_type": "code",
   "execution_count": 2,
   "metadata": {},
   "outputs": [
    {
     "output_type": "stream",
     "name": "stdout",
     "text": [
      "{'Svenska': 100, 'Historia': 50, 'Webutveckling': 100, 'Engelska': 100} \n\n Totalt: 350\n"
     ]
    }
   ],
   "source": [
    "# Uppgift 1\n",
    "\n",
    "kurser = dict(\n",
    "    Svenska = 100,\n",
    "    Historia = 50,\n",
    "    Webutveckling = 100,\n",
    "    Engelska = 100,\n",
    ")\n",
    "\n",
    "sammanlagt = 0\n",
    "\n",
    "for k in kurser.values():\n",
    "    sammanlagt += k\n",
    "    \n",
    "print(kurser,\"\\n\\n\", \"Totala poäng:\", sammanlagt)\n"
   ]
  },
  {
   "cell_type": "code",
   "execution_count": null,
   "metadata": {},
   "outputs": [],
   "source": []
  }
 ]
}