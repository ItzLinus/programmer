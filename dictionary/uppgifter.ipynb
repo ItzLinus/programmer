{
 "metadata": {
  "language_info": {
   "codemirror_mode": {
    "name": "ipython",
    "version": 3
   },
   "file_extension": ".py",
   "mimetype": "text/x-python",
   "name": "python",
   "nbconvert_exporter": "python",
   "pygments_lexer": "ipython3",
   "version": "3.8.3-final"
  },
  "orig_nbformat": 2,
  "kernelspec": {
   "name": "python3",
   "display_name": "Python 3",
   "language": "python"
  }
 },
 "nbformat": 4,
 "nbformat_minor": 2,
 "cells": [
  {
   "cell_type": "code",
   "execution_count": null,
   "metadata": {},
   "outputs": [],
   "source": [
    "# Uppgift 1\n",
    "\n",
    "kurser = dict(\n",
    "    Svenska = 100,\n",
    "    Historia = 50,\n",
    "    Webutveckling = 100,\n",
    "    Engelska = 100,\n",
    ")\n",
    "\n",
    "sammanlagt = 0\n",
    "\n",
    "for k in kurser.values():\n",
    "    sammanlagt += k\n",
    "    \n",
    "print(kurser,\"\\n\\n\", \"Totala poäng:\", sammanlagt)"
   ]
  },
  {
   "cell_type": "code",
   "execution_count": null,
   "metadata": {},
   "outputs": [],
   "source": [
    "# Uppgift 2\n",
    " \n",
    "import random as rnd\n",
    "\n",
    "frekvenstabell = {\n",
    "    '1': 0,\n",
    "    '2': 0,\n",
    "    '3': 0,\n",
    "    '4': 0,\n",
    "    '5': 0,\n",
    "    '6': 0,\n",
    "}\n",
    "\n",
    "for i in range(100000):\n",
    "    slag = rnd.randint(1,6)\n",
    "    frekvenstabell[str(slag)] += 1\n",
    "\n",
    "print('Frekvenstabell')\n",
    "for key, value in frekvenstabell.items():\n",
    "    print(f\"{key}: {value}\")"
   ]
  },
  {
   "cell_type": "code",
   "execution_count": null,
   "metadata": {},
   "outputs": [],
   "source": [
    "pokedex = {}\n",
    "\n",
    "with open('pokemonlista.txt', 'r') as f:\n",
    "    for line in f:\n",
    "        index, pokemon, typ = line.split()\n",
    "        pokedex[pokemon] = [typ, index]\n",
    "\n",
    "\n",
    "välj = str(input(\"Select a pokemon: \")).capitalize()\n",
    "\n",
    "print(f\"  {user_input}\")\n",
    "print(f\" Type:{pokedex[user_input][0]}\\nIndex:{pokedex[user_input][1]}\")"
   ]
  }
 ]
}