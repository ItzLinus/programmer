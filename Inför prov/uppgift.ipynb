{
 "metadata": {
  "language_info": {
   "codemirror_mode": {
    "name": "ipython",
    "version": 3
   },
   "file_extension": ".py",
   "mimetype": "text/x-python",
   "name": "python",
   "nbconvert_exporter": "python",
   "pygments_lexer": "ipython3",
   "version": "3.9.0-final"
  },
  "orig_nbformat": 2,
  "kernelspec": {
   "name": "python3",
   "display_name": "Python 3",
   "language": "python"
  }
 },
 "nbformat": 4,
 "nbformat_minor": 2,
 "cells": [
  {
   "cell_type": "code",
   "execution_count": null,
   "metadata": {
    "tags": [
     "outputPrepend"
    ]
   },
   "outputs": [],
   "source": [
    "#Uppgift 1\n",
    "birds = 8000\n",
    "year = 0\n",
    "\n",
    "while birds > 800:\n",
    "    year += 1\n",
    "    birds /= 2\n",
    "    print(f\"År {year}: antal fåglar: {birds:}\")\n"
   ]
  },
  {
   "cell_type": "code",
   "execution_count": null,
   "metadata": {},
   "outputs": [],
   "source": [
    "#Uppgift 2\n",
    "import matplotlib.pyplot as plt\n",
    "def f(x):\n",
    "    return x**2 - 3*x + 1\n",
    "\n",
    "x = [i for i in range(10)]\n",
    "plt.plot(x)\n",
    "plt.xlabel(\"x\")\n",
    "plt.ylabel(\"y\")\n",
    "plt.show ()\n"
   ]
  },
  {
   "cell_type": "code",
   "execution_count": null,
   "metadata": {},
   "outputs": [],
   "source": [
    "#Uppgift 3\n",
    "print(\"Detta programmet används för att räkna ut medelvärdet på 3 tal.\")\n",
    "tal1 = int(input(\"Ange ditt Första tal: \"))\n",
    "tal2 = int(input(\"Ange ditt Andra tal: \"))\n",
    "tal3 = int(input(\"Ange ditt Tredje tal: \"))\n",
    "\n",
    "lista = ( tal1, tal2, tal3 )\n",
    "summa = sum(lista)\n",
    "längd = len(lista)\n",
    "medelvärde = summa / längd\n",
    "\n",
    "print(f\"Medelvärdet på talen {lista} är: \" + str(medelvärde))"
   ]
  },
  {
   "cell_type": "code",
   "execution_count": 88,
   "metadata": {},
   "outputs": [
    {
     "output_type": "stream",
     "name": "stdout",
     "text": [
      "Detta är ett verktyg som kan användas för att räkna ut arean på en sfär med hjälp av radien.\n",
      "4188.790204786391\n"
     ]
    }
   ],
   "source": [
    "#Uppgift 4\n",
    "import math as m\n",
    "print(\"Detta är ett verktyg som kan användas för att räkna ut arean på en sfär med hjälp av radien.\")\n",
    "radie = int(input(\"Ange en radie: \"))\n",
    "\n",
    "\n",
    "area = (4*m.pi*radie**3)/3\n",
    "svar = str(round(area,2))\n",
    "print(area)"
   ]
  },
  {
   "cell_type": "code",
   "execution_count": null,
   "metadata": {},
   "outputs": [],
   "source": [
    "#Uppgift 5-\n",
    "\n"
   ]
  },
  {
   "cell_type": "code",
   "execution_count": null,
   "metadata": {},
   "outputs": [],
   "source": [
    "#Uppgift 6\n",
    "import random as rm\n",
    "while True:  \n",
    "    tal1=rm.randint(1,12)\n",
    "    tal2=rm.randint(1,12)\n",
    "    summa=tal1*tal2\n",
    "\n",
    "    tal = int(input(f\"Beräkna {tal1} x {tal2}: \"))\n",
    "\n",
    "    if summa == tal:\n",
    "        print(f\"Rätt, Svaret är {summa}!\")\n",
    "\n",
    "    else:\n",
    "        print(f\"Fel svar!, Svaret var {summa}.\")\n",
    "    if input('Vill du fortsätta igen? (Y/N)') == 'n':\n",
    "        break\n"
   ]
  },
  {
   "cell_type": "code",
   "execution_count": null,
   "metadata": {},
   "outputs": [],
   "source": [
    "#Uppgift 7\n",
    "import random as rm\n",
    "summa=0\n",
    "for i in range(1, 10000):\n",
    "    dice = rm.randint(1,6)\n",
    "\n",
    "    if dice == 5:\n",
    "        summa += 1\n",
    "\n",
    "print(summa)\n"
   ]
  },
  {
   "cell_type": "code",
   "execution_count": null,
   "metadata": {},
   "outputs": [],
   "source": []
  }
 ]
}