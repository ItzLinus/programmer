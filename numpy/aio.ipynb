{
 "metadata": {
  "language_info": {
   "codemirror_mode": {
    "name": "ipython",
    "version": 3
   },
   "file_extension": ".py",
   "mimetype": "text/x-python",
   "name": "python",
   "nbconvert_exporter": "python",
   "pygments_lexer": "ipython3",
   "version": "3.9.0-final"
  },
  "orig_nbformat": 2,
  "kernelspec": {
   "name": "python3",
   "display_name": "Python 3.9.0 64-bit",
   "metadata": {
    "interpreter": {
     "hash": "7c02499deb1a505bb42fd41c09f8cf95ca224d2a0a71f9d16360f919a2f3d39f"
    }
   }
  }
 },
 "nbformat": 4,
 "nbformat_minor": 2,
 "cells": [
  {
   "cell_type": "code",
   "execution_count": null,
   "metadata": {},
   "outputs": [],
   "source": [
    "import numpy as np\n",
    "\n",
    "array1 = np.array([1,2,3,4])\n",
    "\n",
    "lista1 = [1,2,3,4]\n",
    "\n",
    "print(f\"Array: {array1}\")\n",
    "print(f\"Lista: {lista1}\")\n",
    "\n",
    "print(array1[2])\n",
    "\n",
    "# Multiplicera alla tal med 2\n",
    "\n",
    "array2 = array1*2\n",
    "print(array2)\n",
    "\n",
    "lista2 = lista1*2\n",
    "print(lista2)\n",
    "\n",
    "# Kvadrera talen\n",
    "\n",
    "kvadrater = array1**2\n",
    "print(kvadrater)"
   ]
  },
  {
   "cell_type": "code",
   "execution_count": null,
   "metadata": {},
   "outputs": [],
   "source": [
    "print(\"Uppgift 1a\")\n",
    "arayy = np.arange(10)\n",
    "print(f\"{arayy}\\n\")\n",
    "\n",
    "print(\"Uppgift 1b\")\n",
    "array = np.arange(-10,11)\n",
    "print(f\"{array}\")"
   ]
  },
  {
   "cell_type": "code",
   "execution_count": 74,
   "metadata": {},
   "outputs": [
    {
     "output_type": "stream",
     "name": "stdout",
     "text": [
      "[ 10  20  30  40  50  60  70  80  90 100]\n\nMulti med 10: \n[ 100  200  300  400  500  600  700  800  900 1000]\n"
     ]
    }
   ],
   "source": [
    "# Uppgift 2\n",
    "\n",
    "arayyys = np.arange(10, 110, 10)\n",
    "print(arayyys)\n",
    "\n",
    "multt = arayyys*10\n",
    "print(f\"\\nMulti med 10: \\n{multt}\")"
   ]
  },
  {
   "cell_type": "code",
   "execution_count": null,
   "metadata": {},
   "outputs": [],
   "source": [
    "import numpy as np\n",
    "\n",
    "# arange\n",
    "tal = np.arange(10)\n",
    "print(tal)\n",
    "\n",
    "# sqrt\n",
    "print(np.sqrt(tal))\n",
    "\n",
    "nollor = "
   ]
  },
  {
   "cell_type": "code",
   "execution_count": null,
   "metadata": {},
   "outputs": [],
   "source": [
    "#Simulera tärningskast\n",
    "import numpy as np\n",
    "import random as rm\n",
    "\n",
    "# array med nollor för att preallokera minne\n",
    "utfall = np.zeros(6, dtype=int)\n",
    "print(utfall)\n",
    "\n",
    "antal_kast = 100000\n",
    "for i in range(antal_kast):\n",
    "    kast = rm.randint(1,6)\n",
    "    utfall[kast-1] += 1\n",
    "\n",
    "print(f\"Tärningskast: {utfall}\")\n",
    "print(f\"Sannolikhet: {utfall/antal_kast}\")\n",
    "\n"
   ]
  },
  {
   "cell_type": "code",
   "execution_count": null,
   "metadata": {},
   "outputs": [],
   "source": []
  }
 ]
}