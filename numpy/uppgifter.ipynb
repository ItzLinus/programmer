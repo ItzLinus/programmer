{
 "metadata": {
  "language_info": {
   "codemirror_mode": {
    "name": "ipython",
    "version": 3
   },
   "file_extension": ".py",
   "mimetype": "text/x-python",
   "name": "python",
   "nbconvert_exporter": "python",
   "pygments_lexer": "ipython3",
   "version": "3.8.3-final"
  },
  "orig_nbformat": 2,
  "kernelspec": {
   "name": "python3",
   "display_name": "Python 3",
   "language": "python"
  }
 },
 "nbformat": 4,
 "nbformat_minor": 2,
 "cells": [
  {
   "cell_type": "code",
   "execution_count": null,
   "metadata": {},
   "outputs": [],
   "source": [
    "# Uppgift 1\n",
    "\n",
    "arayy = np.arange(10)\n",
    "print(f\"{arayy}\\n\")\n",
    "\n",
    "print(\"Uppgift 1b\")\n",
    "array = np.arange(-10,11)\n",
    "print(f\"{array}\")"
   ]
  },
  {
   "cell_type": "code",
   "execution_count": null,
   "metadata": {},
   "outputs": [],
   "source": [
    "# Uppgift 2\n",
    "\n",
    "arayyys = np.arange(10, 110, 10)\n",
    "print(arayyys)\n",
    "\n",
    "multt = arayyys*10\n",
    "print(f\"\\nMulti med 10: \\n{multt}\")"
   ]
  },
  {
   "cell_type": "code",
   "execution_count": null,
   "metadata": {},
   "outputs": [],
   "source": [
    "# Uppgift 3 \n",
    "\n",
    "import matplotlib.pyplot as plt \n",
    "import numpy as np \n",
    "x = np.arange(1,11)\n",
    "y = 3*x+1\n",
    " \n",
    "plt.xlabel('x'); plt.ylabel('y')\n",
    "plt.plot(x,y) \n",
    "plt.show()"
   ]
  }
 ]
}